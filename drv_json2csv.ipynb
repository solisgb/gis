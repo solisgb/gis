{
 "cells": [
  {
   "cell_type": "markdown",
   "metadata": {},
   "source": [
    "# AEMET open data"
   ]
  },
  {
   "cell_type": "raw",
   "metadata": {},
   "source": [
    "I have downloaded daily data from AMET open data and I need to change the format from json to csv"
   ]
  },
  {
   "cell_type": "code",
   "execution_count": 1,
   "metadata": {},
   "outputs": [],
   "source": [
    "# It's not necessary that you have json2csv.py in PYTHONPATH directory, you simply can add it to run this script \n",
    "import sys\n",
    "sys.path.append(r'C:\\Users\\solis\\Documents\\DEV\\python3\\meteoro\\aemet\\od_json2csv')\n",
    "from json2csv import Json2csv \n",
    "import numpy as np\n",
    "import pandas as pd"
   ]
  },
  {
   "cell_type": "code",
   "execution_count": 2,
   "metadata": {},
   "outputs": [
    {
     "name": "stdout",
     "output_type": "stream",
     "text": [
      "FullArgSpec(args=['self', 'diri', 'fjson', 'fmetadata', 'sep'], varargs=None, varkw=None, defaults=(',',), kwonlyargs=[], kwonlydefaults=None, annotations={})\n"
     ]
    }
   ],
   "source": [
    "import inspect\n",
    "print(inspect.getfullargspec(Json2csv))"
   ]
  },
  {
   "cell_type": "markdown",
   "metadata": {},
   "source": [
    "## Downloaded data"
   ]
  },
  {
   "cell_type": "markdown",
   "metadata": {},
   "source": [
    "## Daily data"
   ]
  },
  {
   "cell_type": "code",
   "execution_count": 3,
   "metadata": {},
   "outputs": [],
   "source": [
    "diri = r'E:\\IGME20\\20201215_aquifer\\_data\\aemet_od'  # directoy of data\n",
    "json_files = ['9c35d43d_cartagena.txt', 'c538451b_san_javier.txt']  # json data files, all the file must be of the same type (structure)\n",
    "fmetadata = r'E:\\IGME20\\20201215_aquifer\\_data\\aemet_od\\metadata_day.json'  # metadata file of fis files"
   ]
  },
  {
   "cell_type": "raw",
   "metadata": {},
   "source": [
    "now you can run the script in the way below"
   ]
  },
  {
   "cell_type": "code",
   "execution_count": 4,
   "metadata": {},
   "outputs": [
    {
     "name": "stdout",
     "output_type": "stream",
     "text": [
      "9c35d43d_cartagena.txt\n",
      "ndata 609\n",
      "c538451b_san_javier.txt\n",
      "ndata 609\n"
     ]
    }
   ],
   "source": [
    "for fi in json_files:\n",
    "   Json2csv(diri, fi, fmetadata)"
   ]
  },
  {
   "cell_type": "markdown",
   "metadata": {},
   "source": [
    "## Estaciones de España en open data"
   ]
  },
  {
   "cell_type": "raw",
   "metadata": {},
   "source": [
    "Utilizando Json2csv puedo pasar a csv cualquier tipo de dato servido por aemet open data"
   ]
  },
  {
   "cell_type": "code",
   "execution_count": 5,
   "metadata": {},
   "outputs": [],
   "source": [
    "diri = r'E:\\IGME20\\20201215_aquifer\\_data\\aemet_od'  # directoy of data\n",
    "json_file = r'estaciones_od.json'  # estaciones\n",
    "fmetadata = r'E:\\IGME20\\20201215_aquifer\\_data\\aemet_od\\estaciones_od_metadata_json'  # metadata"
   ]
  },
  {
   "cell_type": "code",
   "execution_count": 6,
   "metadata": {},
   "outputs": [
    {
     "name": "stdout",
     "output_type": "stream",
     "text": [
      "estaciones_od.json\n",
      "ndata 291\n"
     ]
    },
    {
     "data": {
      "text/plain": [
       "<json2csv.Json2csv at 0x1f0f3428190>"
      ]
     },
     "execution_count": 6,
     "metadata": {},
     "output_type": "execute_result"
    }
   ],
   "source": [
    "Json2csv(diri, json_file, fmetadata, sep=';')"
   ]
  },
  {
   "cell_type": "raw",
   "metadata": {},
   "source": [
    "Ahora voy extrae las estaciones que necesito, que con las que tienen identificador '7012C' (Cartagena) y\n",
    "'7031X' (San vavier aeropuerto) para lo que voy a utilizar pandas"
   ]
  },
  {
   "cell_type": "code",
   "execution_count": 7,
   "metadata": {},
   "outputs": [],
   "source": [
    "festaciones = r'E:\\IGME20\\20201215_aquifer\\_data\\aemet_od\\estaciones_od.csv'\n",
    "df = pd.read_csv(festaciones, sep=';', encoding='Latin1')"
   ]
  },
  {
   "cell_type": "code",
   "execution_count": 8,
   "metadata": {},
   "outputs": [
    {
     "data": {
      "text/html": [
       "<div>\n",
       "<style scoped>\n",
       "    .dataframe tbody tr th:only-of-type {\n",
       "        vertical-align: middle;\n",
       "    }\n",
       "\n",
       "    .dataframe tbody tr th {\n",
       "        vertical-align: top;\n",
       "    }\n",
       "\n",
       "    .dataframe thead th {\n",
       "        text-align: right;\n",
       "    }\n",
       "</style>\n",
       "<table border=\"1\" class=\"dataframe\">\n",
       "  <thead>\n",
       "    <tr style=\"text-align: right;\">\n",
       "      <th></th>\n",
       "      <th>latitud</th>\n",
       "      <th>provincia</th>\n",
       "      <th>indicativo</th>\n",
       "      <th>altitud</th>\n",
       "      <th>nombre</th>\n",
       "      <th>indsinop</th>\n",
       "      <th>longitud</th>\n",
       "    </tr>\n",
       "  </thead>\n",
       "  <tbody>\n",
       "    <tr>\n",
       "      <th>0</th>\n",
       "      <td>413515N</td>\n",
       "      <td>BARCELONA</td>\n",
       "      <td>0252D</td>\n",
       "      <td>74</td>\n",
       "      <td>ARENYS DE MAR</td>\n",
       "      <td>8186.0</td>\n",
       "      <td>023224E</td>\n",
       "    </tr>\n",
       "    <tr>\n",
       "      <th>1</th>\n",
       "      <td>411734N</td>\n",
       "      <td>BARCELONA</td>\n",
       "      <td>0076</td>\n",
       "      <td>4</td>\n",
       "      <td>BARCELONA AEROPUERTO</td>\n",
       "      <td>8181.0</td>\n",
       "      <td>020412E</td>\n",
       "    </tr>\n",
       "    <tr>\n",
       "      <th>2</th>\n",
       "      <td>412506N</td>\n",
       "      <td>BARCELONA</td>\n",
       "      <td>0200E</td>\n",
       "      <td>408</td>\n",
       "      <td>BARCELONA, FABRA</td>\n",
       "      <td>NaN</td>\n",
       "      <td>020727E</td>\n",
       "    </tr>\n",
       "    <tr>\n",
       "      <th>3</th>\n",
       "      <td>412326N</td>\n",
       "      <td>BARCELONA</td>\n",
       "      <td>0201D</td>\n",
       "      <td>6</td>\n",
       "      <td>BARCELONA</td>\n",
       "      <td>8180.0</td>\n",
       "      <td>021200E</td>\n",
       "    </tr>\n",
       "    <tr>\n",
       "      <th>4</th>\n",
       "      <td>414312N</td>\n",
       "      <td>BARCELONA</td>\n",
       "      <td>0149X</td>\n",
       "      <td>291</td>\n",
       "      <td>MANRESA</td>\n",
       "      <td>8174.0</td>\n",
       "      <td>015025E</td>\n",
       "    </tr>\n",
       "  </tbody>\n",
       "</table>\n",
       "</div>"
      ],
      "text/plain": [
       "   latitud  provincia indicativo  altitud                nombre  indsinop  \\\n",
       "0  413515N  BARCELONA      0252D       74         ARENYS DE MAR    8186.0   \n",
       "1  411734N  BARCELONA       0076        4  BARCELONA AEROPUERTO    8181.0   \n",
       "2  412506N  BARCELONA      0200E      408      BARCELONA, FABRA       NaN   \n",
       "3  412326N  BARCELONA      0201D        6             BARCELONA    8180.0   \n",
       "4  414312N  BARCELONA      0149X      291               MANRESA    8174.0   \n",
       "\n",
       "  longitud  \n",
       "0  023224E  \n",
       "1  020412E  \n",
       "2  020727E  \n",
       "3  021200E  \n",
       "4  015025E  "
      ]
     },
     "execution_count": 8,
     "metadata": {},
     "output_type": "execute_result"
    }
   ],
   "source": [
    "df.head()"
   ]
  },
  {
   "cell_type": "code",
   "execution_count": 9,
   "metadata": {},
   "outputs": [
    {
     "data": {
      "text/html": [
       "<div>\n",
       "<style scoped>\n",
       "    .dataframe tbody tr th:only-of-type {\n",
       "        vertical-align: middle;\n",
       "    }\n",
       "\n",
       "    .dataframe tbody tr th {\n",
       "        vertical-align: top;\n",
       "    }\n",
       "\n",
       "    .dataframe thead th {\n",
       "        text-align: right;\n",
       "    }\n",
       "</style>\n",
       "<table border=\"1\" class=\"dataframe\">\n",
       "  <thead>\n",
       "    <tr style=\"text-align: right;\">\n",
       "      <th></th>\n",
       "      <th>latitud</th>\n",
       "      <th>provincia</th>\n",
       "      <th>indicativo</th>\n",
       "      <th>altitud</th>\n",
       "      <th>nombre</th>\n",
       "      <th>indsinop</th>\n",
       "      <th>longitud</th>\n",
       "    </tr>\n",
       "  </thead>\n",
       "  <tbody>\n",
       "    <tr>\n",
       "      <th>197</th>\n",
       "      <td>373604N</td>\n",
       "      <td>MURCIA</td>\n",
       "      <td>7012C</td>\n",
       "      <td>17</td>\n",
       "      <td>CARTAGENA</td>\n",
       "      <td>8434.0</td>\n",
       "      <td>005916W</td>\n",
       "    </tr>\n",
       "    <tr>\n",
       "      <th>202</th>\n",
       "      <td>374642N</td>\n",
       "      <td>MURCIA</td>\n",
       "      <td>7031X</td>\n",
       "      <td>4</td>\n",
       "      <td>SAN JAVIER AEROPUERTO</td>\n",
       "      <td>8433.0</td>\n",
       "      <td>004821W</td>\n",
       "    </tr>\n",
       "  </tbody>\n",
       "</table>\n",
       "</div>"
      ],
      "text/plain": [
       "     latitud provincia indicativo  altitud                 nombre  indsinop  \\\n",
       "197  373604N    MURCIA      7012C       17              CARTAGENA    8434.0   \n",
       "202  374642N    MURCIA      7031X        4  SAN JAVIER AEROPUERTO    8433.0   \n",
       "\n",
       "    longitud  \n",
       "197  005916W  \n",
       "202  004821W  "
      ]
     },
     "execution_count": 9,
     "metadata": {},
     "output_type": "execute_result"
    }
   ],
   "source": [
    "df.loc[df['indicativo'].isin(['7012C', '7031X'])] "
   ]
  },
  {
   "cell_type": "code",
   "execution_count": 10,
   "metadata": {},
   "outputs": [
    {
     "data": {
      "text/html": [
       "<div>\n",
       "<style scoped>\n",
       "    .dataframe tbody tr th:only-of-type {\n",
       "        vertical-align: middle;\n",
       "    }\n",
       "\n",
       "    .dataframe tbody tr th {\n",
       "        vertical-align: top;\n",
       "    }\n",
       "\n",
       "    .dataframe thead th {\n",
       "        text-align: right;\n",
       "    }\n",
       "</style>\n",
       "<table border=\"1\" class=\"dataframe\">\n",
       "  <thead>\n",
       "    <tr style=\"text-align: right;\">\n",
       "      <th></th>\n",
       "      <th>latitud</th>\n",
       "      <th>provincia</th>\n",
       "      <th>indicativo</th>\n",
       "      <th>altitud</th>\n",
       "      <th>nombre</th>\n",
       "      <th>indsinop</th>\n",
       "      <th>longitud</th>\n",
       "    </tr>\n",
       "  </thead>\n",
       "  <tbody>\n",
       "    <tr>\n",
       "      <th>197</th>\n",
       "      <td>373604N</td>\n",
       "      <td>MURCIA</td>\n",
       "      <td>7012C</td>\n",
       "      <td>17</td>\n",
       "      <td>CARTAGENA</td>\n",
       "      <td>8434.0</td>\n",
       "      <td>005916W</td>\n",
       "    </tr>\n",
       "    <tr>\n",
       "      <th>202</th>\n",
       "      <td>374642N</td>\n",
       "      <td>MURCIA</td>\n",
       "      <td>7031X</td>\n",
       "      <td>4</td>\n",
       "      <td>SAN JAVIER AEROPUERTO</td>\n",
       "      <td>8433.0</td>\n",
       "      <td>004821W</td>\n",
       "    </tr>\n",
       "  </tbody>\n",
       "</table>\n",
       "</div>"
      ],
      "text/plain": [
       "     latitud provincia indicativo  altitud                 nombre  indsinop  \\\n",
       "197  373604N    MURCIA      7012C       17              CARTAGENA    8434.0   \n",
       "202  374642N    MURCIA      7031X        4  SAN JAVIER AEROPUERTO    8433.0   \n",
       "\n",
       "    longitud  \n",
       "197  005916W  \n",
       "202  004821W  "
      ]
     },
     "execution_count": 10,
     "metadata": {},
     "output_type": "execute_result"
    }
   ],
   "source": [
    "from os.path import join\n",
    "fo = join(diri, 'est_cartagena_san_javier.csv')\n",
    "df.loc[df['indicativo'].isin(['7012C', '7031X'])]  # .to_csv(fo, index=False)"
   ]
  },
  {
   "cell_type": "code",
   "execution_count": 11,
   "metadata": {},
   "outputs": [
    {
     "data": {
      "text/plain": [
       "array([['373604N', 'MURCIA', '7012C', 17, 'CARTAGENA', 8434.0, '005916W'],\n",
       "       ['374642N', 'MURCIA', '7031X', 4, 'SAN JAVIER AEROPUERTO', 8433.0,\n",
       "        '004821W']], dtype=object)"
      ]
     },
     "execution_count": 11,
     "metadata": {},
     "output_type": "execute_result"
    }
   ],
   "source": [
    "df.loc[df['indicativo'].isin(['7012C', '7031X'])].values"
   ]
  },
  {
   "cell_type": "raw",
   "metadata": {},
   "source": [
    "Para calcular los punto situados a menor distancia de las 2 esaciones seleccionadas conozco 3 maneras\n",
    "(puede haber más)\n",
    "1. Mediante un gis\n",
    "2. Cargado los datos a una bddd espacial y ejectando las funciones de transformación\n",
    "3. Siguiendo el trabajo con python\n",
    "Puesto que al final todos los csv que he ido generando los voy a cargar a una base de datos para sacar los gráficos,\n",
    "2 posiblemente sea el método más eficiente si tienes unstalada una bdd espacial; sin embargo voy a seguir con python por \n",
    "si este no es el caso (opción 3)"
   ]
  },
  {
   "cell_type": "raw",
   "metadata": {},
   "source": [
    "Lo primero que tengo que hacer es cambiar las coordenadas de epsg 4258 a proyectadas en epsg 25830 , \n",
    "para lo que tengo que crear 2 nuevos campos en en dataframe y otro que indique el epsg de las proyectadas\n",
    "(quizás en el futuro tenga que cambiar el epsg de las estaciones situdas fuera del huso 30"
   ]
  },
  {
   "cell_type": "code",
   "execution_count": 12,
   "metadata": {},
   "outputs": [],
   "source": [
    "import pyproj\n",
    "sys.path.append(r'C:\\Users\\solis\\Documents\\DEV\\python3\\GIS\\gis_utils')\n",
    "import gis_utils"
   ]
  },
  {
   "cell_type": "code",
   "execution_count": 13,
   "metadata": {},
   "outputs": [],
   "source": [
    "import pyproj as proj"
   ]
  },
  {
   "cell_type": "code",
   "execution_count": 14,
   "metadata": {},
   "outputs": [
    {
     "name": "stdout",
     "output_type": "stream",
     "text": [
      "[[677629.8125, 4163462.5], [693232.25, 4183488.25]]\n"
     ]
    }
   ],
   "source": [
    "# coordinates for the aemet stations Cartagena ans San Javir aeropuerto\n",
    "gms = [['373604N', '005916W'],['374642N', '004821W']]\n",
    "# coordinate reference system\n",
    "crsg = 4258; crsp = 25830\n",
    "xy = gis_utils.geographics2proyected(crsg, crsp, gms)\n",
    "print(xy)"
   ]
  },
  {
   "cell_type": "code",
   "execution_count": 15,
   "metadata": {},
   "outputs": [],
   "source": [
    "df['x'], df['y'], df['proj_epsg'] = [np.nan, np.nan, '25830']"
   ]
  },
  {
   "cell_type": "code",
   "execution_count": 16,
   "metadata": {},
   "outputs": [
    {
     "data": {
      "text/plain": [
       "Index(['latitud', 'provincia', 'indicativo', 'altitud', 'nombre', 'indsinop',\n",
       "       'longitud', 'x', 'y', 'proj_epsg'],\n",
       "      dtype='object')"
      ]
     },
     "execution_count": 16,
     "metadata": {},
     "output_type": "execute_result"
    }
   ],
   "source": [
    "df.columns"
   ]
  },
  {
   "cell_type": "raw",
   "metadata": {},
   "source": [
    "Voy a asignar las coordenadas proyectadas ara todas las estaciones open data, no sólo las que\n",
    "estrictamente necesito "
   ]
  },
  {
   "cell_type": "code",
   "execution_count": null,
   "metadata": {},
   "outputs": [],
   "source": [
    "proj_epsg = '25830'\n",
    "lat_log = [[df.iloc[i]['latitud'], df.iloc[i]['longitud']] for i in df.index]\n",
    "\n",
    "#    xy = gis_utils.geographics2proyected(crsg, crsp, gms)\n",
    "#    df.at[i, 'ifor'] = x"
   ]
  }
 ],
 "metadata": {
  "kernelspec": {
   "display_name": "Python 3",
   "language": "python",
   "name": "python3"
  },
  "language_info": {
   "codemirror_mode": {
    "name": "ipython",
    "version": 3
   },
   "file_extension": ".py",
   "mimetype": "text/x-python",
   "name": "python",
   "nbconvert_exporter": "python",
   "pygments_lexer": "ipython3",
   "version": "3.8.5"
  }
 },
 "nbformat": 4,
 "nbformat_minor": 4
}
